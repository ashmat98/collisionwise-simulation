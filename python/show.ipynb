{
 "cells": [
  {
   "cell_type": "code",
   "execution_count": 2,
   "metadata": {},
   "outputs": [],
   "source": [
    "import numpy as np \n",
    "from matplotlib import pyplot as plt \n",
    "import os\n",
    "from tqdm import tqdm\n",
    "\n",
    "from read_binary import read_binary    "
   ]
  },
  {
   "cell_type": "raw",
   "metadata": {},
   "source": [
    "%matplotlib qt"
   ]
  },
  {
   "cell_type": "code",
   "execution_count": 3,
   "metadata": {},
   "outputs": [],
   "source": [
    "files = sorted(os.listdir(\"simulation\"), key=lambda x:float(x.split()[0]))"
   ]
  },
  {
   "cell_type": "code",
   "execution_count": 4,
   "metadata": {},
   "outputs": [
    {
     "name": "stderr",
     "output_type": "stream",
     "text": [
      "100%|█████████████████████████████████████████████████████████████████████████████| 1489/1489 [00:10<00:00, 136.19it/s]\n"
     ]
    }
   ],
   "source": [
    "paths = [os.path.join(\"simulation\", x) for x in files]\n",
    "\n",
    "radius = 0.2\n",
    "ts, rss, vss = [], [], []\n",
    "for p in tqdm(paths):\n",
    "    box_size,t,_,rs, vs = read_binary(p)\n",
    "    ts.append(t)\n",
    "    rss.append(rs)\n",
    "    vss.append(vs)\n",
    "ts = np.array(ts)\n",
    "rss = np.array(rss)\n",
    "vss = np.array(vss)"
   ]
  },
  {
   "cell_type": "code",
   "execution_count": null,
   "metadata": {},
   "outputs": [],
   "source": [
    "box_size"
   ]
  },
  {
   "cell_type": "code",
   "execution_count": 5,
   "metadata": {},
   "outputs": [],
   "source": [
    "from mpl_toolkits.mplot3d import Axes3D\n",
    "\n",
    "def plot_shere(ax, x, y, z, r, box_size, resolution=100,**kwargs):\n",
    "    \"\"\" simple function to plot a sphere to a 3d axes \"\"\"\n",
    "\n",
    "    u = np.linspace(0, 2 * np.pi, resolution)\n",
    "    v = np.linspace(0, np.pi, resolution)\n",
    "    \n",
    "    bx,by,bz = box_size\n",
    "    \n",
    "    xx = r * np.outer(np.cos(u), np.sin(v)) + x\n",
    "    yy = r * np.outer(np.sin(u), np.sin(v)) + y\n",
    "    zz = r * np.outer(np.ones(np.size(u)), np.cos(v)) + z\n",
    "    \n",
    "#     xx[xx<0] = 0\n",
    "#     xx[xx>bx] = bx\n",
    "    \n",
    "#     yy[yy<0] = 0\n",
    "#     yy[yy>by] = by\n",
    "    \n",
    "#     zz[zz<0] = 0\n",
    "#     zz[zz>bz] = bz\n",
    "    \n",
    "    ind = (xx>0) & (xx<bx) & (yy>0) & (yy<by) & (zz>0) & (zz<bz)\n",
    "    zz[~ind] = np.nan\n",
    "    if ind.any():\n",
    "        ax.plot_surface(xx, yy, zz,  rstride=4, cstride=4, **kwargs)\n"
   ]
  },
  {
   "cell_type": "code",
   "execution_count": null,
   "metadata": {},
   "outputs": [],
   "source": [
    "rs = rss[9]\n",
    "colors = plt.rcParams[\"axes.prop_cycle\"][:len(rs)]\n",
    "\n",
    "# set up the figure\n",
    "fig = plt.figure()\n",
    "ax = fig.add_subplot(111, projection='3d')\n",
    "\n",
    "# loop through the data and plot the spheres\n",
    "for pos, c in zip(rs, colors):\n",
    "    for i in range(-1,2):\n",
    "        for j in range(-1,2):\n",
    "            for k in range(-1,2):\n",
    "                plot_shere(ax, *(pos+box_size*np.array([i,j,k])), \n",
    "                           radius, box_size, edgecolor='none', color=c[\"color\"])\n",
    "\n",
    "# set the axes limits and show the plot\n",
    "ax.set_ylim([0,1])\n",
    "ax.set_xlim([0,1])\n",
    "ax.set_zlim([0,1])\n",
    "#     plt.savefig(os.path.join(\"imgs\", f\"{i:04d}.png\"))\n",
    "\n",
    "plt.show()\n"
   ]
  },
  {
   "cell_type": "code",
   "execution_count": 19,
   "metadata": {},
   "outputs": [],
   "source": [
    "def job(path):\n",
    "    box_size,t,_,rs, vs = read_binary(path)\n",
    "\n",
    "    colors = plt.rcParams[\"axes.prop_cycle\"][:len(rs)]\n",
    "\n",
    "    # set up the figure\n",
    "    fig = plt.figure()\n",
    "    ax = fig.add_subplot(111, projection='3d')\n",
    "\n",
    "    # loop through the data and plot the spheres\n",
    "    for pos, c in zip(rs, colors):\n",
    "        for i in range(-1,2):\n",
    "            for j in range(-1,2):\n",
    "                for k in range(-1,2):\n",
    "                    plot_shere(ax, *(pos+box_size*np.array([i,j,k])), \n",
    "                               radius, box_size, edgecolor='none', color=c[\"color\"])\n",
    "\n",
    "    # set the axes limits and show the plot\n",
    "    ax.set_ylim([0,1])\n",
    "    ax.set_xlim([0,1])\n",
    "    ax.set_zlim([0,1])\n",
    "    plt.savefig(os.path.join(\"imgs\", f\"{t:0.4f}.png\"))\n",
    "    plt.close(fig)"
   ]
  },
  {
   "cell_type": "code",
   "execution_count": null,
   "metadata": {},
   "outputs": [],
   "source": [
    "for path in tqdm(paths):\n",
    "    job(path)\n"
   ]
  },
  {
   "cell_type": "code",
   "execution_count": null,
   "metadata": {},
   "outputs": [
    {
     "name": "stderr",
     "output_type": "stream",
     "text": [
      "\n",
      "\n",
      "  0%|                                                                                         | 0/1489 [00:00<?, ?it/s]\u001b[A\u001b[A"
     ]
    }
   ],
   "source": [
    "from multiprocessing import Pool\n",
    "import time\n",
    "from tqdm import *\n",
    "\n",
    "with Pool(processes=8) as p:\n",
    "    max_ = 30\n",
    "    with tqdm(total=len(paths)) as pbar:\n",
    "        for i, _ in enumerate(p.imap_unordered(job, paths)):\n",
    "            pbar.update()"
   ]
  },
  {
   "cell_type": "code",
   "execution_count": null,
   "metadata": {},
   "outputs": [],
   "source": []
  }
 ],
 "metadata": {
  "kernelspec": {
   "display_name": "Python 3",
   "language": "python",
   "name": "python3"
  },
  "language_info": {
   "codemirror_mode": {
    "name": "ipython",
    "version": 3
   },
   "file_extension": ".py",
   "mimetype": "text/x-python",
   "name": "python",
   "nbconvert_exporter": "python",
   "pygments_lexer": "ipython3",
   "version": "3.7.6"
  }
 },
 "nbformat": 4,
 "nbformat_minor": 2
}
